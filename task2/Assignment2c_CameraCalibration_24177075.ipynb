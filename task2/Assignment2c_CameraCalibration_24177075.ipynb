{
 "cells": [
  {
   "cell_type": "markdown",
   "id": "07c2179d-6ef6-42b9-94b6-fc905993eadc",
   "metadata": {
    "deletable": false,
    "editable": false,
    "tags": []
   },
   "source": [
    "# Camera Calibration"
   ]
  },
  {
   "cell_type": "markdown",
   "id": "cc50afdf-94f8-4f27-9899-86000e83ba79",
   "metadata": {},
   "source": [
    "Your name: !double click to enter details!\n",
    "\n",
    "Your ID number:"
   ]
  },
  {
   "cell_type": "markdown",
   "id": "81efd70b-041f-48d9-927a-ad927486474f",
   "metadata": {
    "deletable": false,
    "editable": false,
    "tags": []
   },
   "source": [
    "This task is not so difficult. I want to walk you through the steps of the calibration of your own camera using OpenCV. All of the code is provided for you, you only need to make tweaks. But please take the time to read the comments I have added below, as they describe the steps. Refer to the video on camera calibration.\n",
    "\n",
    "<font color='blue'>\n",
    "    \n",
    "#### Task\n",
    "\n",
    "Calibrate your mobile phone camera.\n",
    "1. I have provided a pdf of a checkerboard pattern. Display it on your computer screen, and using your mobile phone camera, capture a bunch of images of the checker pattern (e.g., 7 or 8)\n",
    "1. Transfer these to your computer, into the folder that this notebook is in (or in a subfolder)\n",
    "1. Update the path in the code below to point to the images\n",
    "1. Run the code to calibrate your camera!\n",
    "1. Read the comments carefully to understand what's going on\n",
    "1. Print the estimated camera matrix and distortion coefficients (code provided)\n",
    "1. Draw all of your images, with the coordinate system and the corners overlaid (code provided)\n"
   ]
  },
  {
   "cell_type": "code",
   "execution_count": null,
   "id": "109035be-dd06-4940-8803-281db1910606",
   "metadata": {},
   "outputs": [],
   "source": [
    "import numpy as np\n",
    "import cv2\n",
    "import glob\n",
    "\n",
    "# TODO: Point this to your list of images\n",
    "images = glob.glob('checker_images/*.jpg')\n",
    "\n",
    "# termination criteria - don't worry about this too much. What we are doing here\n",
    "# is setting the criteria by which the training iterations exit. We set a max number\n",
    "# of iterations (we don't want it to run forever) plus an early exit when the error\n",
    "# drops below a small value (eps)\n",
    "criteria = (cv2.TERM_CRITERIA_EPS + cv2.TERM_CRITERIA_MAX_ITER, 30, 0.001)\n",
    "\n",
    "# This is the number of vertices in the checkerboard pattern. This basically\n",
    "# tells the findChessboardCorners function what it is looking for. This is correct\n",
    "# if you use the accompanying checkerboard patter, but you must update this if\n",
    "# you use your own.\n",
    "grid_size = (10,7)\n",
    "\n",
    "# As you know from the lectures, we need to know something physical about the\n",
    "# calibration target. We need to  know where the corners are in our world \n",
    "# coordinate system. Well, let's make the top left corner of the calibration\n",
    "# pattern our world coordinate system, and let's assume that each corner is\n",
    "# one unit from the other corners - this last bit is a bit odd, but it has no\n",
    "# impact on the calibration of the intrinsics. Therefore, our \"object\" points\n",
    "# are (0,0,0), (1,0,0), (2,0,0) ....,(6,5,0) (object in this case is the\n",
    "# checkerboard pattern.\n",
    "objp = np.zeros((grid_size[0]*grid_size[1],3), np.float32)\n",
    "objp[:,:2] = np.mgrid[0:10,0:7].T.reshape(-1,2)\n",
    "\n",
    "# When we detect the checkerboard pattern, we will be able to associate\n",
    "# the image points in each image with the object points. This is a key\n",
    "# step in calibration, that we are associating the image points with some\n",
    "# known world points.\n",
    "# In our case, where we have a single checker pattern that we image multiple\n",
    "# times, the object points will always be the same. However, you could, in\n",
    "# theory, have multiple checker patterns within the image, which would have\n",
    "# different world coordinates. Hence, the algorithsm below expect an\n",
    "# explicit object point list for each set of image points, even if that leads\n",
    "# to repeated point lists.\n",
    "# Arrays to store object points and image points from all the images.\n",
    "objpoints = [] # 3d point in real world space\n",
    "imgpoints = [] # 2d points in image plane.\n",
    "\n",
    "# Let's store the images, also, so we can draw on them afterwards\n",
    "imgs = []\n",
    "\n",
    "# Now, we iterate through each checker image\n",
    "for fname in images:\n",
    "    # Read each file\n",
    "    img = cv2.imread(fname)\n",
    "    \n",
    "    # Convert to grayscale\n",
    "    gray = cv2.cvtColor(img, cv2.COLOR_BGR2GRAY)\n",
    "    \n",
    "    # Find the chess board corners\n",
    "    ret, corners = cv2.findChessboardCorners(gray, grid_size, None)\n",
    "    \n",
    "    # If found, add object points, image points (after refining them)\n",
    "    # Sometimes the function fails to finde the checker corners. We\n",
    "    # can just ignore images where it isn't found.\n",
    "    if ret == True:\n",
    "        # Create our list of object points. As mentioned above, this\n",
    "        # will just be repeated for every image in our case.\n",
    "        objpoints.append(objp)\n",
    "        \n",
    "        # The accuracy of our corners is very important. In the find checker\n",
    "        # function above, we find the corners to pixel level accuracy.\n",
    "        # However, we want to refine this to subpixel level (I hope you\n",
    "        # covered subpixel detections in previous courses!)\n",
    "        corners2 = cv2.cornerSubPix(gray, corners, (11,11), (-1,-1), criteria)\n",
    "        \n",
    "        # Now append out image points\n",
    "        imgpoints.append(corners2)\n",
    "        \n",
    "        # Store the images where we have found the checkers\n",
    "        imgs.append(img)\n",
    "\n",
    "        \n",
    "# Now, at this point, objpoints and imgpoints contain a correspondence between \n",
    "# the 3D coordinates of the checker pattern (in a world coordinate that is origin'd\n",
    "# at the top left of the checker pattern, as discussed). This is the crucial 3D-2D\n",
    "# correspondence set that we need for calibration.\n",
    "ret, mtx, dist, rvecs, tvecs = cv2.calibrateCamera(objpoints, imgpoints, gray.shape[::-1], None, None)\n"
   ]
  },
  {
   "cell_type": "code",
   "execution_count": null,
   "id": "c61c88e2-e65d-4dbf-ba12-df1c84e5c5d6",
   "metadata": {},
   "outputs": [],
   "source": [
    "# Displaying required output\n",
    "print(\" Camera matrix:\")\n",
    "print(mtx)\n",
    "  \n",
    "print(\"\\n Distortion coefficient:\")\n",
    "print(dist)"
   ]
  },
  {
   "cell_type": "code",
   "execution_count": null,
   "id": "246a72d6-b1b2-4624-bcfd-f46ff2db69b1",
   "metadata": {},
   "outputs": [],
   "source": [
    "import matplotlib.pyplot as plt\n",
    "\n",
    "# Draw and display the corners and the world coordinates axes\n",
    "# You should see (cyan) lines connecting all of the corners\n",
    "# and the world coordinate systems axes should be in red, green and blue\n",
    "# (red = Z-axis, green = Y-axis, blue = X-axis)\n",
    "\n",
    "# You can play with these until it looks nice\n",
    "axes_thickness = 30\n",
    "corner_line_thickness = 15\n",
    "\n",
    "for i in range(0,len(objpoints)):\n",
    "    cv2.polylines(imgs[i], np.array([imgpoints[i][:,0]]).astype(int), \n",
    "                  False, (0,255,255), corner_line_thickness)\n",
    "    cv2.drawFrameAxes(imgs[i], mtx, dist, rvecs[i], tvecs[i], 2, axes_thickness)\n",
    "    plt.figure()\n",
    "    plt.imshow(imgs[i]);"
   ]
  }
 ],
 "metadata": {
  "kernelspec": {
   "display_name": "Python 3 (ipykernel)",
   "language": "python",
   "name": "python3"
  },
  "language_info": {
   "codemirror_mode": {
    "name": "ipython",
    "version": 3
   },
   "file_extension": ".py",
   "mimetype": "text/x-python",
   "name": "python",
   "nbconvert_exporter": "python",
   "pygments_lexer": "ipython3",
   "version": "3.9.13"
  }
 },
 "nbformat": 4,
 "nbformat_minor": 5
}
